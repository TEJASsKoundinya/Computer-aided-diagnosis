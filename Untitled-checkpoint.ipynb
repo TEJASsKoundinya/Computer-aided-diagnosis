{
 "cells": [
  {
   "cell_type": "code",
   "execution_count": 21,
   "id": "081981ba",
   "metadata": {},
   "outputs": [],
   "source": [
    "#importing library \n",
    "\n",
    "#local storage, mathcal, imageprocessing_cv, if needed graph to show train acc set\n",
    "import json\n",
    "import math\n",
    "import os\n",
    "import cv2\n",
    "import numpy as np \n",
    "import pandas as pd \n",
    "import matplotlib.pyplot as plt \n",
    "from glob import glob \n"
   ]
  },
  {
   "cell_type": "code",
   "execution_count": 22,
   "id": "78ac2ea7",
   "metadata": {},
   "outputs": [],
   "source": [
    "from tensorflow.compat.v1 import ConfigProto\n",
    "from tensorflow.compat.v1 import InteractiveSession\n",
    "\n",
    "config = ConfigProto()\n",
    "config.gpu_options.per_process_gpu_memory_fraction = 0.5\n",
    "config.gpu_options.allow_growth = True\n",
    "session = InteractiveSession(config=config)"
   ]
  },
  {
   "cell_type": "code",
   "execution_count": 23,
   "id": "45c28a22",
   "metadata": {},
   "outputs": [],
   "source": [
    "#vectorial cal\n",
    "from sklearn.metrics import confusion_matrix\n",
    "from sklearn.metrics import classification_report \n",
    "from sklearn.model_selection import train_test_split"
   ]
  },
  {
   "cell_type": "code",
   "execution_count": 24,
   "id": "4ebb2acb",
   "metadata": {},
   "outputs": [],
   "source": [
    "#importn keras interface adam optimizer and vgg16 arch. multilib\n",
    "from tensorflow.keras.layers import Input, Lambda, Dense, Flatten\n",
    "from tensorflow.keras.models import Model\n",
    "from tensorflow.keras.applications.inception_v3 import InceptionV3\n",
    "#from keras.applications.vgg16 import VGG16\n",
    "from tensorflow.keras.applications.inception_v3 import preprocess_input\n",
    "from tensorflow.keras.preprocessing import image\n",
    "from tensorflow.keras.preprocessing.image import ImageDataGenerator,load_img\n",
    "from tensorflow.keras.models import Sequential"
   ]
  },
  {
   "cell_type": "code",
   "execution_count": 25,
   "id": "fd36dbe7",
   "metadata": {},
   "outputs": [],
   "source": [
    "#importing tensorflow \n",
    "import tensorflow as tf"
   ]
  },
  {
   "cell_type": "code",
   "execution_count": 26,
   "id": "3793ac0a",
   "metadata": {},
   "outputs": [],
   "source": [
    "#image size\n",
    "IMAGE_SIZE = [224, 224]\n",
    "#getting directive\n",
    "train_dir = \"datasets/train\"\n",
    "test_dir = \"datasets/test\""
   ]
  },
  {
   "cell_type": "code",
   "execution_count": 27,
   "id": "b6387532",
   "metadata": {},
   "outputs": [],
   "source": [
    "inception = InceptionV3(input_shape=IMAGE_SIZE + [3], weights='imagenet', include_top=False)"
   ]
  },
  {
   "cell_type": "code",
   "execution_count": 32,
   "id": "f6a33719",
   "metadata": {},
   "outputs": [],
   "source": [
    "# don't train existing weights\n",
    "for layer in inception.layers:\n",
    "    layer.trainable = False"
   ]
  },
  {
   "cell_type": "code",
   "execution_count": 35,
   "id": "7cfea90b",
   "metadata": {},
   "outputs": [],
   "source": [
    "folders = glob('Datasets/train/*')\n",
    "x = Flatten()(inception.output)"
   ]
  },
  {
   "cell_type": "code",
   "execution_count": 36,
   "id": "40f6fc45",
   "metadata": {},
   "outputs": [],
   "source": [
    "prediction = Dense(len(folders), activation='softmax')(x)\n",
    "\n",
    "# create a model object\n",
    "model = Model(inputs=inception.input, outputs=prediction)"
   ]
  },
  {
   "cell_type": "code",
   "execution_count": 37,
   "id": "773571f2",
   "metadata": {},
   "outputs": [],
   "source": [
    "model.compile(\n",
    "  loss='categorical_crossentropy',\n",
    "  optimizer='adam',\n",
    "  metrics=['accuracy']\n",
    ")"
   ]
  },
  {
   "cell_type": "code",
   "execution_count": 38,
   "id": "aa52a3a7",
   "metadata": {},
   "outputs": [],
   "source": [
    "from tensorflow.keras.preprocessing.image import ImageDataGenerator\n",
    "\n",
    "train_datagen = ImageDataGenerator(rescale = 1./255,\n",
    "                                   shear_range = 0.2,\n",
    "                                   zoom_range = 0.2,\n",
    "                                   horizontal_flip = True)\n",
    "\n",
    "test_datagen = ImageDataGenerator(rescale = 1./255)"
   ]
  },
  {
   "cell_type": "code",
   "execution_count": 39,
   "id": "5dba8bfa",
   "metadata": {},
   "outputs": [
    {
     "name": "stdout",
     "output_type": "stream",
     "text": [
      "Found 7455 images belonging to 11 classes.\n"
     ]
    }
   ],
   "source": [
    "training_set = train_datagen.flow_from_directory('Datasets/train',\n",
    "                                                 target_size = (224, 224),\n",
    "                                                 batch_size = 32,\n",
    "                                                 class_mode = 'categorical')"
   ]
  },
  {
   "cell_type": "code",
   "execution_count": 40,
   "id": "f56338a3",
   "metadata": {},
   "outputs": [
    {
     "name": "stdout",
     "output_type": "stream",
     "text": [
      "Found 742 images belonging to 11 classes.\n"
     ]
    }
   ],
   "source": [
    "test_set = test_datagen.flow_from_directory('Datasets/test',\n",
    "                                            target_size = (224, 224),\n",
    "                                            batch_size = 32,\n",
    "                                            class_mode = 'categorical')"
   ]
  },
  {
   "cell_type": "code",
   "execution_count": 41,
   "id": "8634be61",
   "metadata": {},
   "outputs": [
    {
     "name": "stderr",
     "output_type": "stream",
     "text": [
      "C:\\Users\\RIL\\anaconda3\\envs\\Tensorflow_ev\\lib\\site-packages\\tensorflow\\python\\keras\\engine\\training.py:1844: UserWarning: `Model.fit_generator` is deprecated and will be removed in a future version. Please use `Model.fit`, which supports generators.\n",
      "  warnings.warn('`Model.fit_generator` is deprecated and '\n"
     ]
    },
    {
     "name": "stdout",
     "output_type": "stream",
     "text": [
      "Epoch 1/20\n",
      "233/233 [==============================] - 467s 2s/step - loss: 6.1543 - accuracy: 0.6493 - val_loss: 3.8799 - val_accuracy: 0.7466\n",
      "Epoch 2/20\n",
      "233/233 [==============================] - 421s 2s/step - loss: 2.7185 - accuracy: 0.7844 - val_loss: 4.8270 - val_accuracy: 0.7736\n",
      "Epoch 3/20\n",
      "233/233 [==============================] - 424s 2s/step - loss: 2.4281 - accuracy: 0.8197 - val_loss: 4.8948 - val_accuracy: 0.7628\n",
      "Epoch 4/20\n",
      "233/233 [==============================] - 419s 2s/step - loss: 2.3324 - accuracy: 0.8290 - val_loss: 3.3230 - val_accuracy: 0.8248\n",
      "Epoch 5/20\n",
      "233/233 [==============================] - 419s 2s/step - loss: 2.2929 - accuracy: 0.8362 - val_loss: 5.7296 - val_accuracy: 0.7547\n",
      "Epoch 6/20\n",
      "233/233 [==============================] - 416s 2s/step - loss: 2.3327 - accuracy: 0.8509 - val_loss: 6.9284 - val_accuracy: 0.7264\n",
      "Epoch 7/20\n",
      "233/233 [==============================] - 416s 2s/step - loss: 2.2830 - accuracy: 0.8532 - val_loss: 4.6124 - val_accuracy: 0.7803\n",
      "Epoch 8/20\n",
      "233/233 [==============================] - 417s 2s/step - loss: 2.0066 - accuracy: 0.8674 - val_loss: 5.3972 - val_accuracy: 0.7871\n",
      "Epoch 9/20\n",
      "233/233 [==============================] - 415s 2s/step - loss: 2.5621 - accuracy: 0.8465 - val_loss: 4.6828 - val_accuracy: 0.8059\n",
      "Epoch 10/20\n",
      "233/233 [==============================] - 420s 2s/step - loss: 2.0607 - accuracy: 0.8671 - val_loss: 5.3305 - val_accuracy: 0.8005\n",
      "Epoch 11/20\n",
      "233/233 [==============================] - 417s 2s/step - loss: 1.9651 - accuracy: 0.8774 - val_loss: 8.9475 - val_accuracy: 0.7183\n",
      "Epoch 12/20\n",
      "233/233 [==============================] - 430s 2s/step - loss: 2.0310 - accuracy: 0.8756 - val_loss: 5.9534 - val_accuracy: 0.8315\n",
      "Epoch 13/20\n",
      "233/233 [==============================] - 423s 2s/step - loss: 1.9471 - accuracy: 0.8856 - val_loss: 5.2385 - val_accuracy: 0.7911\n",
      "Epoch 14/20\n",
      "233/233 [==============================] - 417s 2s/step - loss: 1.9625 - accuracy: 0.8810 - val_loss: 5.7402 - val_accuracy: 0.7992\n",
      "Epoch 15/20\n",
      "233/233 [==============================] - 421s 2s/step - loss: 2.0475 - accuracy: 0.8830 - val_loss: 6.4553 - val_accuracy: 0.7951\n",
      "Epoch 16/20\n",
      "233/233 [==============================] - 438s 2s/step - loss: 1.7987 - accuracy: 0.8996 - val_loss: 7.6851 - val_accuracy: 0.7574\n",
      "Epoch 17/20\n",
      "233/233 [==============================] - 423s 2s/step - loss: 1.8413 - accuracy: 0.8918 - val_loss: 6.0818 - val_accuracy: 0.8046\n",
      "Epoch 18/20\n",
      "233/233 [==============================] - 416s 2s/step - loss: 1.8038 - accuracy: 0.8959 - val_loss: 6.4178 - val_accuracy: 0.8140\n",
      "Epoch 19/20\n",
      "233/233 [==============================] - 433s 2s/step - loss: 2.0371 - accuracy: 0.8896 - val_loss: 8.3594 - val_accuracy: 0.7695\n",
      "Epoch 20/20\n",
      "233/233 [==============================] - 415s 2s/step - loss: 1.8030 - accuracy: 0.8993 - val_loss: 6.5997 - val_accuracy: 0.8032\n"
     ]
    }
   ],
   "source": [
    "#model ggene.\n",
    "r = model.fit_generator(\n",
    "  training_set,\n",
    "  validation_data=test_set,\n",
    "  epochs=20,\n",
    "  steps_per_epoch=len(training_set),\n",
    "  validation_steps=len(test_set)\n",
    ")"
   ]
  },
  {
   "cell_type": "code",
   "execution_count": 42,
   "id": "fef001cb",
   "metadata": {},
   "outputs": [],
   "source": [
    "from tensorflow.keras.models import load_model\n",
    "model.save('modelvgg16.h5')"
   ]
  },
  {
   "cell_type": "code",
   "execution_count": 43,
   "id": "d5b527da",
   "metadata": {},
   "outputs": [
    {
     "ename": "NameError",
     "evalue": "name 'hist' is not defined",
     "output_type": "error",
     "traceback": [
      "\u001b[1;31m---------------------------------------------------------------------------\u001b[0m",
      "\u001b[1;31mNameError\u001b[0m                                 Traceback (most recent call last)",
      "\u001b[1;32m<ipython-input-43-1a07e5eafa33>\u001b[0m in \u001b[0;36m<module>\u001b[1;34m\u001b[0m\n\u001b[1;32m----> 1\u001b[1;33m \u001b[0mavg\u001b[0m \u001b[1;33m=\u001b[0m \u001b[0mnp\u001b[0m\u001b[1;33m.\u001b[0m\u001b[0mmean\u001b[0m\u001b[1;33m(\u001b[0m\u001b[0mhist\u001b[0m\u001b[1;33m.\u001b[0m\u001b[0mhistory\u001b[0m\u001b[1;33m[\u001b[0m\u001b[1;34m'accuracy'\u001b[0m\u001b[1;33m]\u001b[0m\u001b[1;33m)\u001b[0m\u001b[1;33m\u001b[0m\u001b[1;33m\u001b[0m\u001b[0m\n\u001b[0m\u001b[0;32m      2\u001b[0m \u001b[0mprint\u001b[0m\u001b[1;33m(\u001b[0m\u001b[1;34m'The Average Training Accuracy is'\u001b[0m\u001b[1;33m,\u001b[0m \u001b[0mavg\u001b[0m\u001b[1;33m)\u001b[0m\u001b[1;33m\u001b[0m\u001b[1;33m\u001b[0m\u001b[0m\n",
      "\u001b[1;31mNameError\u001b[0m: name 'hist' is not defined"
     ]
    }
   ],
   "source": []
  },
  {
   "cell_type": "code",
   "execution_count": null,
   "id": "c8d547c3",
   "metadata": {},
   "outputs": [],
   "source": []
  }
 ],
 "metadata": {
  "kernelspec": {
   "display_name": "Python 3",
   "language": "python",
   "name": "python3"
  },
  "language_info": {
   "codemirror_mode": {
    "name": "ipython",
    "version": 3
   },
   "file_extension": ".py",
   "mimetype": "text/x-python",
   "name": "python",
   "nbconvert_exporter": "python",
   "pygments_lexer": "ipython3",
   "version": "3.8.8"
  }
 },
 "nbformat": 4,
 "nbformat_minor": 5
}
